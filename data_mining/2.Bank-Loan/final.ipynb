{
 "cells": [
  {
   "cell_type": "code",
   "execution_count": 29,
   "id": "11f740e8",
   "metadata": {},
   "outputs": [],
   "source": [
    "import numpy as np\n",
    "import pandas as pd\n",
    "import matplotlib.pyplot as plt\n",
    "from sklearn import tree\n",
    "from sklearn.model_selection import StratifiedShuffleSplit, cross_val_score\n",
    "from sklearn.ensemble import RandomForestClassifier  \n",
    "from sklearn.ensemble import AdaBoostClassifier\n",
    "from sklearn.feature_selection import SelectKBest\n",
    "from sklearn.feature_selection import mutual_info_classif\n",
    "import numpy as np\n",
    "import time\n",
    "\n",
    "seed = 114514\n",
    "%matplotlib inline\n"
   ]
  },
  {
   "cell_type": "code",
   "execution_count": 30,
   "id": "9a785942",
   "metadata": {},
   "outputs": [
    {
     "data": {
      "text/html": [
       "<div>\n",
       "<style scoped>\n",
       "    .dataframe tbody tr th:only-of-type {\n",
       "        vertical-align: middle;\n",
       "    }\n",
       "\n",
       "    .dataframe tbody tr th {\n",
       "        vertical-align: top;\n",
       "    }\n",
       "\n",
       "    .dataframe thead th {\n",
       "        text-align: right;\n",
       "    }\n",
       "</style>\n",
       "<table border=\"1\" class=\"dataframe\">\n",
       "  <thead>\n",
       "    <tr style=\"text-align: right;\">\n",
       "      <th></th>\n",
       "      <th>A1</th>\n",
       "      <th>A2</th>\n",
       "      <th>A3</th>\n",
       "      <th>A4</th>\n",
       "      <th>A5</th>\n",
       "      <th>A6</th>\n",
       "      <th>A7</th>\n",
       "      <th>A8</th>\n",
       "      <th>A9</th>\n",
       "      <th>A10</th>\n",
       "      <th>A11</th>\n",
       "      <th>A12</th>\n",
       "      <th>A13</th>\n",
       "      <th>A14</th>\n",
       "      <th>A15</th>\n",
       "      <th>A16</th>\n",
       "    </tr>\n",
       "  </thead>\n",
       "  <tbody>\n",
       "    <tr>\n",
       "      <th>0</th>\n",
       "      <td>b</td>\n",
       "      <td>30.83</td>\n",
       "      <td>0.000</td>\n",
       "      <td>u</td>\n",
       "      <td>g</td>\n",
       "      <td>w</td>\n",
       "      <td>v</td>\n",
       "      <td>1.25</td>\n",
       "      <td>t</td>\n",
       "      <td>t</td>\n",
       "      <td>1</td>\n",
       "      <td>f</td>\n",
       "      <td>g</td>\n",
       "      <td>202</td>\n",
       "      <td>0</td>\n",
       "      <td>1</td>\n",
       "    </tr>\n",
       "    <tr>\n",
       "      <th>1</th>\n",
       "      <td>a</td>\n",
       "      <td>58.67</td>\n",
       "      <td>4.460</td>\n",
       "      <td>u</td>\n",
       "      <td>g</td>\n",
       "      <td>q</td>\n",
       "      <td>h</td>\n",
       "      <td>3.04</td>\n",
       "      <td>t</td>\n",
       "      <td>t</td>\n",
       "      <td>6</td>\n",
       "      <td>f</td>\n",
       "      <td>g</td>\n",
       "      <td>43</td>\n",
       "      <td>560</td>\n",
       "      <td>1</td>\n",
       "    </tr>\n",
       "    <tr>\n",
       "      <th>2</th>\n",
       "      <td>a</td>\n",
       "      <td>24.50</td>\n",
       "      <td>0.500</td>\n",
       "      <td>u</td>\n",
       "      <td>g</td>\n",
       "      <td>q</td>\n",
       "      <td>h</td>\n",
       "      <td>1.50</td>\n",
       "      <td>t</td>\n",
       "      <td>f</td>\n",
       "      <td>0</td>\n",
       "      <td>f</td>\n",
       "      <td>g</td>\n",
       "      <td>280</td>\n",
       "      <td>824</td>\n",
       "      <td>1</td>\n",
       "    </tr>\n",
       "    <tr>\n",
       "      <th>3</th>\n",
       "      <td>b</td>\n",
       "      <td>27.83</td>\n",
       "      <td>1.540</td>\n",
       "      <td>u</td>\n",
       "      <td>g</td>\n",
       "      <td>w</td>\n",
       "      <td>v</td>\n",
       "      <td>3.75</td>\n",
       "      <td>t</td>\n",
       "      <td>t</td>\n",
       "      <td>5</td>\n",
       "      <td>t</td>\n",
       "      <td>g</td>\n",
       "      <td>100</td>\n",
       "      <td>3</td>\n",
       "      <td>1</td>\n",
       "    </tr>\n",
       "    <tr>\n",
       "      <th>4</th>\n",
       "      <td>b</td>\n",
       "      <td>20.17</td>\n",
       "      <td>5.625</td>\n",
       "      <td>u</td>\n",
       "      <td>g</td>\n",
       "      <td>w</td>\n",
       "      <td>v</td>\n",
       "      <td>1.71</td>\n",
       "      <td>t</td>\n",
       "      <td>f</td>\n",
       "      <td>0</td>\n",
       "      <td>f</td>\n",
       "      <td>s</td>\n",
       "      <td>120</td>\n",
       "      <td>0</td>\n",
       "      <td>1</td>\n",
       "    </tr>\n",
       "  </tbody>\n",
       "</table>\n",
       "</div>"
      ],
      "text/plain": [
       "  A1     A2     A3 A4 A5 A6 A7    A8 A9 A10  A11 A12 A13  A14  A15  A16\n",
       "0  b  30.83  0.000  u  g  w  v  1.25  t   t    1   f   g  202    0    1\n",
       "1  a  58.67  4.460  u  g  q  h  3.04  t   t    6   f   g   43  560    1\n",
       "2  a  24.50  0.500  u  g  q  h  1.50  t   f    0   f   g  280  824    1\n",
       "3  b  27.83  1.540  u  g  w  v  3.75  t   t    5   t   g  100    3    1\n",
       "4  b  20.17  5.625  u  g  w  v  1.71  t   f    0   f   s  120    0    1"
      ]
     },
     "execution_count": 30,
     "metadata": {},
     "output_type": "execute_result"
    }
   ],
   "source": [
    "data = pd.read_csv(\"./bankloan.csv\")\n",
    "data.head()    # 展示数据的头部"
   ]
  },
  {
   "cell_type": "code",
   "execution_count": 31,
   "id": "1742f093",
   "metadata": {},
   "outputs": [],
   "source": [
    "# 对于字符转化成数值\n",
    "data = data.replace({'b': 0, 'a': 1, 'u': 0, 'y': 1, 'l': 2, 'g': 0, 'p': 2, 'gg': 2, 'c': 0, 'q': 1, 'w': 2, 'i': 3, 'aa': 4, 'ff': 3, 'k': 6, 'cc': 7, 'm': 8, 'x': 9, 'd': 10, 'e': 11, 'j': 4, 'r': 13, 'v': 0, 'h': 1, 'bb': 2, 'z': 5, 'dd': 6, 'n': 7, 'o': 8, 't': 0, 'f': 1, 's': 1})\n"
   ]
  },
  {
   "cell_type": "code",
   "execution_count": 32,
   "id": "e8b7a960",
   "metadata": {},
   "outputs": [],
   "source": [
    "# 对于缺失的数据做众数填充\n",
    "data.fillna(data.mode(numeric_only=True).iloc[0], inplace=True)\n"
   ]
  },
  {
   "cell_type": "code",
   "execution_count": 33,
   "id": "3fcbf139",
   "metadata": {},
   "outputs": [],
   "source": [
    "# 归一化\n",
    "data = (data - data.min()) / (data.max() - data.min())"
   ]
  },
  {
   "cell_type": "code",
   "execution_count": 34,
   "id": "41cf6828",
   "metadata": {},
   "outputs": [],
   "source": [
    "# 对数据进行分割（属性以及标签）\n",
    "X = data.drop(['A16'], axis=1)\n",
    "Y = data['A16']"
   ]
  },
  {
   "cell_type": "code",
   "execution_count": 36,
   "id": "8ffe7965",
   "metadata": {},
   "outputs": [],
   "source": [
    "# 特征选择\n",
    "\n",
    "# 这里我们使用SelectKBest技术选择前十个最佳特征\n",
    "\n",
    "selector = SelectKBest(mutual_info_classif, k=10)\n",
    "X_new = selector.fit_transform(X, Y)"
   ]
  },
  {
   "cell_type": "code",
   "execution_count": 37,
   "id": "8e916422",
   "metadata": {},
   "outputs": [
    {
     "name": "stdout",
     "output_type": "stream",
     "text": [
      "Index(['A3', 'A5', 'A6', 'A7', 'A8', 'A9', 'A10', 'A11', 'A14', 'A15'], dtype='object')\n"
     ]
    }
   ],
   "source": [
    "\n",
    "# 获取被选中的特征\n",
    "feature_mask = selector.get_support()\n",
    "selected_features = X.columns[feature_mask]\n",
    "print(selected_features)"
   ]
  },
  {
   "cell_type": "code",
   "execution_count": 38,
   "id": "5da9d201",
   "metadata": {},
   "outputs": [
    {
     "name": "stdout",
     "output_type": "stream",
     "text": [
      "entropyScore =  0.7956521739130434\n"
     ]
    }
   ],
   "source": [
    "# 决策树模型，使用全部特征\n",
    "cv = StratifiedShuffleSplit(n_splits=10, test_size=0.1, random_state=seed)\n",
    "clf = tree.DecisionTreeClassifier(criterion='entropy', random_state=seed)   # 交叉熵\n",
    "\n",
    "score = cross_val_score(clf, X, Y, cv=cv).mean()\n",
    "print('entropyScore = ', score)\n"
   ]
  },
  {
   "cell_type": "code",
   "execution_count": 39,
   "id": "636107c4",
   "metadata": {},
   "outputs": [
    {
     "name": "stdout",
     "output_type": "stream",
     "text": [
      "giniScore =  0.808695652173913\n"
     ]
    }
   ],
   "source": [
    "\n",
    "clf = tree.DecisionTreeClassifier(criterion='gini', random_state=seed)     # 基尼指数\n",
    "score = cross_val_score(clf, X, Y, cv=cv).mean()\n",
    "print('giniScore = ', score)"
   ]
  },
  {
   "cell_type": "code",
   "execution_count": 40,
   "id": "22fe070e",
   "metadata": {
    "scrolled": true
   },
   "outputs": [
    {
     "name": "stdout",
     "output_type": "stream",
     "text": [
      "entropyScore =  0.8217391304347826\n"
     ]
    }
   ],
   "source": [
    "# 决策树模型，使用选择后的十个特征\n",
    "clf = tree.DecisionTreeClassifier(criterion='entropy', random_state=seed)   # 交叉熵\n",
    "score = cross_val_score(clf, X_new, Y, cv=cv).mean()\n",
    "print('entropyScore = ', score)\n"
   ]
  },
  {
   "cell_type": "code",
   "execution_count": 41,
   "id": "75bda8bd",
   "metadata": {},
   "outputs": [
    {
     "name": "stdout",
     "output_type": "stream",
     "text": [
      "giniScore =  0.8014492753623189\n"
     ]
    }
   ],
   "source": [
    "\n",
    "clf = tree.DecisionTreeClassifier(criterion='gini', random_state=seed)     # 基尼指数\n",
    "score = cross_val_score(clf, X_new, Y, cv=cv).mean()\n",
    "print('giniScore = ', score)"
   ]
  },
  {
   "cell_type": "code",
   "execution_count": 42,
   "id": "ec8cbc29",
   "metadata": {},
   "outputs": [],
   "source": [
    "# 优化参数 max_depth\n",
    "start = time.time()\n",
    "AllScore = []\n",
    "cv = StratifiedShuffleSplit(n_splits=10, test_size=0.1, random_state=seed)\n",
    "for i in range(1, 16):\n",
    "    clf = tree.DecisionTreeClassifier(criterion='entropy', max_depth=i, random_state=seed)\n",
    "    score = cross_val_score(clf, X_new, Y, cv=cv).mean()\n",
    "    AllScore.append([i, score])\n",
    "AllScore = np.array(AllScore)\n",
    "end = time.time()\n"
   ]
  },
  {
   "cell_type": "code",
   "execution_count": 53,
   "id": "f0446519",
   "metadata": {},
   "outputs": [
    {
     "name": "stdout",
     "output_type": "stream",
     "text": [
      "所耗时间为： 88.32518005371094\n"
     ]
    }
   ],
   "source": [
    "\n",
    "\n",
    "\n",
    "print('所耗时间为：', str(end - start))\n",
    "\n"
   ]
  },
  {
   "cell_type": "code",
   "execution_count": 44,
   "id": "bff127d3",
   "metadata": {},
   "outputs": [
    {
     "data": {
      "image/png": "[encoded data removed]",
      "text/plain": [
       "<Figure size 2000x400 with 1 Axes>"
      ]
     },
     "metadata": {},
     "output_type": "display_data"
    }
   ],
   "source": [
    "\n",
    "plt.figure(figsize=[20, 4])\n",
    "plt.plot(AllScore[:, 0], AllScore[:, 1])\n",
    "y1 = AllScore[:, 1]\n",
    "plt.show()"
   ]
  }
 ],
 "metadata": {
  "kernelspec": {
   "display_name": "Python 3 (ipykernel)",
   "language": "python",
   "name": "python3"
  },
  "language_info": {
   "codemirror_mode": {
    "name": "ipython",
    "version": 3
   },
   "file_extension": ".py",
   "mimetype": "text/x-python",
   "name": "python",
   "nbconvert_exporter": "python",
   "pygments_lexer": "ipython3",
   "version": "3.9.7"
  }
 },
 "nbformat": 4,
 "nbformat_minor": 5
}
