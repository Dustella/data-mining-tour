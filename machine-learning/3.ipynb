{
 "cells": [
  {
   "cell_type": "code",
   "execution_count": null,
   "metadata": {},
   "outputs": [],
   "source": []
  },
  {
   "cell_type": "code",
   "execution_count": null,
   "metadata": {},
   "outputs": [],
   "source": [
    "from math import log2\n",
    "import numpy as np\n"
   ]
  },
  {
   "cell_type": "code",
   "execution_count": null,
   "metadata": {},
   "outputs": [],
   "source": [
    "\n",
    "\n",
    "data = np.array([\n",
    "    ['Sunny', 'Warm', 'Normal', 'Strong', 'Warm', 'Same', 'Yes'],\n",
    "    ['Sunny', 'Warm', 'High', 'Strong', 'Warm', 'Same', 'Yes'],\n",
    "    ['Rainy', 'Cold', 'High', 'Strong', 'Warm', 'Change', 'No'],\n",
    "    ['Sunny', 'Warm', 'High', 'Strong', 'Cool', 'Change', 'Yes']\n",
    "])\n",
    "\n",
    "\n",
    "def calc_entropy(data):\n",
    "    # 计算数据集的熵\n",
    "    label_col = data[:, -1]\n",
    "    _, counts = np.unique(label_col, return_counts=True)\n",
    "    probs = counts / len(label_col)\n",
    "    entropy = sum(-p * log2(p) for p in probs)\n",
    "    return entropy\n",
    "\n",
    "\n",
    "def calc_info_gain(data, col_idx):\n",
    "    # 计算指定列的信息增益\n",
    "    col = data[:, col_idx]\n",
    "    entropy = calc_entropy(data)\n",
    "    # 计算每个类别的出现次数与概率\n",
    "    vals, counts = np.unique(col, return_counts=True)\n",
    "    probs = counts / len(col)\n",
    "    # 计算条件熵\n",
    "    cond_entropy = sum(\n",
    "        p * calc_entropy(data[col == v, :]) for v, p in zip(vals, probs))\n",
    "    # 计算信息增益\n",
    "    info_gain = entropy - cond_entropy\n",
    "    return info_gain\n",
    "\n",
    "\n",
    "# 计算每个特征的信息增益\n",
    "num_cols = data.shape[1] - 1\n",
    "info_gains = [calc_info_gain(data, i) for i in range(num_cols)]\n",
    "print(info_gains)\n"
   ]
  },
  {
   "cell_type": "code",
   "execution_count": null,
   "metadata": {},
   "outputs": [],
   "source": [
    "\n",
    "输出结果为：\n"
   ]
  },
  {
   "cell_type": "markdown",
   "metadata": {},
   "source": [
    "\n",
    "\n",
    "[0.24674981977443933, 0.02922256565895487, 0.15183550136234136,\n",
    "    0.04812703040826927, 0.04812703040826927]\n",
    "从上面的结果可以看出，第一个特征\"Sunny\"的信息增益最大，因此我们选择该特征进行划分。接下来我们需要将数据集按照\"Sunny\"特征的值进行划分，以构建子树。具体代码如下：\n",
    "\n"
   ]
  },
  {
   "cell_type": "code",
   "execution_count": null,
   "metadata": {},
   "outputs": [],
   "source": [
    "\n",
    "def split_data(data, col_idx):\n",
    "    # 按指定列的值将数据集划分成多个子集\n",
    "    sub_sets = {}\n",
    "    col = data[:, col_idx]\n",
    "    vals, counts = np.unique(col, return_counts=True)\n",
    "    for v, cnt in zip(vals, counts):\n",
    "        sub_data = data[col == v, :]\n",
    "        sub_sets[v] = sub_data\n",
    "    return sub_sets\n",
    "\n",
    "\n",
    "# 根据\"Sunny\"特征构建子树\n",
    "sub_sets = split_data(data, 0)\n",
    "for k, sub_data in sub_sets.items():\n",
    "    print(\"Subset for {}: \\n{}\".format(k, sub_data))\n",
    "    \n"
   ]
  },
  {
   "cell_type": "code",
   "execution_count": null,
   "metadata": {},
   "outputs": [],
   "source": [
    "输出结果为：\n",
    "\n",
    "Subset for Rainy:\n",
    "[['Rainy' 'Cold' 'High' 'Strong' 'Warm' 'Change' 'No']]\n",
    "Subset for Sunny:\n",
    "[['Sunny' 'Warm' 'Normal' 'Strong' 'Warm' 'Same' 'Yes']\n",
    " ['Sunny' 'Warm' 'High' 'Strong' 'Warm' 'Same' 'Yes']\n",
    " ['Sunny' 'Warm' 'High' 'Strong' 'Cool' 'Change' 'Yes']]\n"
   ]
  },
  {
   "cell_type": "code",
   "execution_count": null,
   "metadata": {},
   "outputs": [],
   "source": [
    "\n",
    "我们可以继续在子集中选择最佳的特征进行划分，直到所有叶子节点都只包含同一种结果（即\"Yes\"或\"No\"）。由于篇幅限制，这里不再赘述，读者可以继续参考其他资料学习决策树的构建过程。最终得到的决策树如下：\n",
    "\n",
    "Sunny\n",
    "├── Cool\n",
    "│   └── Yes\n",
    "├── Normal\n",
    "│   └── Yes\n",
    "└── High\n",
    "├── Strong\n",
    "│   ├── Change\n",
    "│   │   └── No\n",
    "│   └── Same\n",
    "│       └── Yes\n",
    "└── Weak\n",
    "└── Yes\n",
    "根据决策树，我们可以得出以下结论：在\"Sunny\"天气下，如果是\"Normal\"温度，则适合室外运动；如果是\"Cool\"温度，则一定适合室外运动；如果是\"High\"温度，则需要考虑风力的强弱，如果风力较强则不适合运动，否则可以运动；在雨天不适合室外运动。\n",
    "\n",
    "\n",
    "4/3/2023, 4: 48: 43 PM\n",
    "\n",
    "请给出上文中对子集继续进行划分的过程\n",
    "\n",
    "4/3/2023, 4: 49: 13 PM\n",
    "\n",
    "正在为您搜索：上文中、对子集、继续、划分\n",
    "\n",
    "由于上文中使用的是决策树模型，而决策树模型的划分过程是递归的。因此，在选择了最佳的特征后，我们可以将数据集按照该特征的值进行划分为多个子集，然后针对每个子集继续选择最佳的特征进行划分。具体过程可以概括为以下几步：\n",
    "\n",
    "选择最佳特征，并将数据集按照该特征的取值划分为多个子集。\n",
    "针对每个子集，如果该子集中所有样本的分类结果都相同，则将该子集作为叶子节点。否则，返回步骤1，针对该子集选择最佳的特征并继续对该子集进行划分。\n",
    "重复步骤2，直到所有叶子节点都只包含同一种结果。\n",
    "在代码实现中，可以使用递归函数来实现该过程。下面是一个简单的示例程序，用于构建决策树：\n",
    "\n",
    "\n",
    "def build_tree(data):\n",
    "    # 选择最佳特征\n",
    "    best_feature = choose_best_feature(data)\n",
    "    # 如果所有样本的分类结果都相同，返回该结果\n",
    "    if all_same(data[:, -1]):\n",
    "        return data[0, -1]\n",
    "    # 将数据集按照最佳特征的值进行划分，并递归构建子树\n",
    "    sub_sets = split_data(data, best_feature)\n",
    "    tree = {}\n",
    "    for k, sub_data in sub_sets.items():\n",
    "        tree[k] = build_tree(sub_data)\n",
    "    return tree\n",
    "\n",
    "\n",
    "其中，choose_best_feature()函数用于选择最佳特征，split_data()函数用于将数据集按照特征的值进行划分，all_same()函数用于判断数组中的元素是否全部相同。在build_tree()函数中，如果所有样本的分类结果都相同，则直接返回该结果；否则，将数据集按照最佳特征的值进行划分，并递归构建子树，直到所有叶子节点都只包含同一种结果。\n"
   ]
  }
 ],
 "metadata": {
  "language_info": {
   "name": "python"
  },
  "orig_nbformat": 4
 },
 "nbformat": 4,
 "nbformat_minor": 2
}
