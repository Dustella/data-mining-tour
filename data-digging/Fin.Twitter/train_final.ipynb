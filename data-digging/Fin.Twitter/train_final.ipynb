{
 "cells": [
  {
   "attachments": {},
   "cell_type": "markdown",
   "metadata": {},
   "source": [
    "# 终极版 使用预处理数据集"
   ]
  },
  {
   "cell_type": "code",
   "execution_count": 1,
   "metadata": {},
   "outputs": [],
   "source": [
    "import pandas as pd\n",
    "import jieba\n",
    "from sklearn.feature_extraction.text import CountVectorizer\n",
    "from sklearn.linear_model import LogisticRegression\n",
    "from sklearn.metrics import accuracy_score\n",
    "from sklearn.model_selection import train_test_split\n",
    "from scipy.sparse import csr_matrix, hstack"
   ]
  },
  {
   "cell_type": "code",
   "execution_count": 11,
   "metadata": {},
   "outputs": [],
   "source": [
    "\n",
    "from sklearn.preprocessing import LabelEncoder\n",
    "import numpy as np\n",
    "# 读取数据集\n",
    "# data = pd.read_csv('train.csv')\n",
    "data = np.load(\"./train.pkl\", allow_pickle=True)\n",
    "data\n",
    "\n",
    "vectorizer = CountVectorizer()\n",
    "\n",
    "vecto = vectorizer.fit_transform(data[\"text_cleaned\"])\n",
    "csr = csr_matrix(vecto)\n",
    "\n",
    "\n"
   ]
  },
  {
   "cell_type": "code",
   "execution_count": 12,
   "metadata": {},
   "outputs": [],
   "source": [
    "import re\n",
    "def get_urls(text:str):\n",
    "    pattern = re.compile(r\"http\\S+\")\n",
    "    urls = pattern.findall(text)\n",
    "    return urls\n",
    "\n",
    "def get_mentions(text:str):\n",
    "    pattern = re.compile(r\"@\\S+\")\n",
    "    mentions = pattern.findall(text)\n",
    "    return mentions\n",
    "\n",
    "data[\"urls\"] = data[\"text_cleaned\"].apply(get_urls)\n",
    "data[\"mentions\"] = data[\"text_cleaned\"].apply(get_mentions)\n"
   ]
  },
  {
   "cell_type": "code",
   "execution_count": 13,
   "metadata": {},
   "outputs": [],
   "source": [
    "\n",
    "le = LabelEncoder()\n",
    "\n",
    "keywords  = le.fit_transform(data[\"keyword\"].fillna(\"\"))\n",
    "locations = le.fit_transform(data[\"location\"].fillna(\"\"))\n",
    "mentions  = le.fit_transform(data[\"mentions\"].apply(lambda x: \" \".join(x)).fillna(\"\"))\n",
    "urls      = le.fit_transform(data[\"urls\"].apply(lambda x: \" \".join(x)).fillna(\"\"))\n",
    "\n",
    "\n",
    "\n"
   ]
  },
  {
   "cell_type": "code",
   "execution_count": 14,
   "metadata": {},
   "outputs": [
    {
     "name": "stdout",
     "output_type": "stream",
     "text": [
      "(7613, 16885)\n"
     ]
    }
   ],
   "source": [
    "\n",
    "\n",
    "\n",
    "csr = hstack((csr, csr_matrix( keywords.reshape(-1, 1))))\n",
    "csr = hstack((csr, csr_matrix(locations.reshape(-1, 1))))\n",
    "csr = hstack((csr, csr_matrix(mentions.reshape(-1, 1))))\n",
    "csr = hstack((csr, csr_matrix(urls.reshape(-1, 1))))\n",
    "# print first 5 rows of csr_matrix\n",
    "print(csr.toarray().shape)"
   ]
  },
  {
   "cell_type": "code",
   "execution_count": 15,
   "metadata": {},
   "outputs": [],
   "source": [
    "\n",
    "X_train, X_test, y_train, y_test = train_test_split(csr, data['target_relabeled'], test_size=0.2, random_state=42)\n",
    "\n"
   ]
  },
  {
   "cell_type": "code",
   "execution_count": 18,
   "metadata": {},
   "outputs": [
    {
     "name": "stdout",
     "output_type": "stream",
     "text": [
      "Accuracy: 0.7235718975705844\n"
     ]
    }
   ],
   "source": [
    "\n",
    "# 训练模型\n",
    "# ramdom forest\n",
    "from sklearn.ensemble import RandomForestClassifier\n",
    "# SVM\n",
    "from sklearn.svm import SVC\n",
    "# KNN\n",
    "from sklearn.neighbors import KNeighborsClassifier, NearestCentroid\n",
    "# Naive Bayes\n",
    "from sklearn.naive_bayes import BernoulliNB, GaussianNB\n",
    "# naive bayes\n",
    "from sklearn.naive_bayes import MultinomialNB\n",
    "from sklearn.tree import ExtraTreeClassifier\n",
    "\n",
    "\n",
    "\n",
    "\n",
    "\n",
    "\n",
    "clf = ExtraTreeClassifier()\n",
    "clf.fit(X_train.toarray(), y_train)\n",
    "\n",
    "# 评估模型性能\n",
    "y_pred = clf.predict(X_test.toarray())\n",
    "accuracy = accuracy_score(y_test, y_pred)\n",
    "print('Accuracy:', accuracy)"
   ]
  }
 ],
 "metadata": {
  "kernelspec": {
   "display_name": "tf",
   "language": "python",
   "name": "python3"
  },
  "language_info": {
   "codemirror_mode": {
    "name": "ipython",
    "version": 3
   },
   "file_extension": ".py",
   "mimetype": "text/x-python",
   "name": "python",
   "nbconvert_exporter": "python",
   "pygments_lexer": "ipython3",
   "version": "3.10.11"
  },
  "orig_nbformat": 4
 },
 "nbformat": 4,
 "nbformat_minor": 2
}
