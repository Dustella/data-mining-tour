{
 "cells": [
  {
   "attachments": {},
   "cell_type": "markdown",
   "metadata": {},
   "source": [
    "# 神经网络分类器测试"
   ]
  },
  {
   "cell_type": "code",
   "execution_count": 10,
   "metadata": {},
   "outputs": [
    {
     "name": "stderr",
     "output_type": "stream",
     "text": [
      "[nltk_data] Downloading package punkt to\n",
      "[nltk_data]     C:\\Users\\Dustella\\AppData\\Roaming\\nltk_data...\n",
      "[nltk_data]   Package punkt is already up-to-date!\n",
      "c:\\Users\\Dustella\\anaconda3\\envs\\tf\\lib\\site-packages\\sklearn\\feature_extraction\\text.py:528: UserWarning: The parameter 'token_pattern' will not be used since 'tokenizer' is not None'\n",
      "  warnings.warn(\n"
     ]
    },
    {
     "ename": "ValueError",
     "evalue": "could not determine the shape of object type 'Series'",
     "output_type": "error",
     "traceback": [
      "\u001b[1;31m---------------------------------------------------------------------------\u001b[0m",
      "\u001b[1;31mValueError\u001b[0m                                Traceback (most recent call last)",
      "Cell \u001b[1;32mIn[10], line 55\u001b[0m\n\u001b[0;32m     52\u001b[0m     \u001b[39mreturn\u001b[39;00m one_hot\n\u001b[0;32m     54\u001b[0m num_classes \u001b[39m=\u001b[39m \u001b[39m2\u001b[39m\n\u001b[1;32m---> 55\u001b[0m y_train_one_hot \u001b[39m=\u001b[39m one_hot_encode(torch\u001b[39m.\u001b[39;49mtensor(y_train), num_classes)\n\u001b[0;32m     56\u001b[0m y_test_one_hot \u001b[39m=\u001b[39m one_hot_encode(torch\u001b[39m.\u001b[39mtensor(y_test), num_classes)\n\u001b[0;32m     59\u001b[0m epochs \u001b[39m=\u001b[39m \u001b[39m10\u001b[39m\n",
      "\u001b[1;31mValueError\u001b[0m: could not determine the shape of object type 'Series'"
     ]
    }
   ],
   "source": [
    "import pandas as pd\n",
    "import numpy as np\n",
    "import torch\n",
    "import torch.nn as nn\n",
    "import torch.optim as optim\n",
    "from torch.utils.data import Dataset, DataLoader\n",
    "from sklearn.model_selection import train_test_split\n",
    "from sklearn.feature_extraction.text import CountVectorizer\n",
    "from nltk.tokenize import word_tokenize\n",
    "import nltk\n",
    "nltk.download('punkt')\n",
    "\n",
    "# 1. 加载数据集\n",
    "data = pd.read_csv('train.csv')\n",
    "\n",
    "# 2. 数据预处理\n",
    "data['text'] = data['text'].apply(lambda x: x.lower())\n",
    "\n",
    "# 3. 分词\n",
    "data['tokens'] = data['text'].apply(word_tokenize)\n",
    "\n",
    "# 4. 向量化\n",
    "vectorizer = CountVectorizer(tokenizer=lambda x: x, preprocessor=lambda x: x)\n",
    "X = vectorizer.fit_transform(data['tokens'])\n",
    "y = data['target']\n",
    "\n",
    "# 5. 划分数据集\n",
    "X_train, X_test, y_train, y_test = train_test_split(X, y, test_size=0.2, random_state=42)\n",
    "\n",
    "# 6. 创建浅层神经网络\n",
    "class ShallowNN(nn.Module):\n",
    "    def __init__(self, input_size, output_size):\n",
    "        super(ShallowNN, self).__init__()\n",
    "        self.fc1 = nn.Linear(input_size, output_size)\n",
    "\n",
    "    def forward(self, x):\n",
    "        x = self.fc1(x)\n",
    "        return x\n",
    "\n",
    "input_size = X_train.shape[1]\n",
    "output_size = 2\n",
    "\n",
    "model = ShallowNN(input_size, output_size)\n",
    "\n",
    "# 7. 训练模型\n",
    "criterion = nn.CrossEntropyLoss()\n",
    "optimizer = optim.Adam(model.parameters(), lr=0.001)\n",
    "\n",
    "def one_hot_encode(labels, num_classes):\n",
    "    one_hot = torch.zeros(labels.size(0), num_classes)\n",
    "    one_hot.scatter_(1, labels.unsqueeze(1), 1)\n",
    "    return one_hot\n",
    "\n",
    "num_classes = 2\n",
    "y_train_one_hot = one_hot_encode(torch.tensor(y_train), num_classes)\n",
    "y_test_one_hot = one_hot_encode(torch.tensor(y_test), num_classes)\n",
    "\n",
    "\n",
    "epochs = 10\n",
    "for epoch in range(epochs):\n",
    "    for i, (inputs, labels) in enumerate(zip(X_train, y_train_one_hot)):\n",
    "        inputs = torch.tensor(inputs.toarray(), dtype=torch.float32)\n",
    "        labels = labels.to(dtype=torch.long)\n",
    "\n",
    "        optimizer.zero_grad()\n",
    "        outputs = model(inputs)\n",
    "        loss = criterion(outputs.unsqueeze(0), labels.unsqueeze(0))\n",
    "        loss.backward()\n",
    "        optimizer.step()\n",
    "\n",
    "# 8. 评估模型性能\n",
    "correct = 0\n",
    "total = 0\n",
    "with torch.no_grad():\n",
    "    for i, (inputs, labels) in enumerate(zip(X_test, y_test)):\n",
    "        inputs = torch.tensor(inputs.toarray(), dtype=torch.float32)\n",
    "        labels = torch.tensor(labels, dtype=torch.long)\n",
    "\n",
    "        outputs = model(inputs)\n",
    "        _, predicted = torch.max(outputs, 0)\n",
    "        total += 1\n",
    "        correct += (predicted == labels).sum().item()\n",
    "\n",
    "print(f'Accuracy: {100 * correct / total}%')\n"
   ]
  }
 ],
 "metadata": {
  "kernelspec": {
   "display_name": "tf",
   "language": "python",
   "name": "python3"
  },
  "language_info": {
   "codemirror_mode": {
    "name": "ipython",
    "version": 3
   },
   "file_extension": ".py",
   "mimetype": "text/x-python",
   "name": "python",
   "nbconvert_exporter": "python",
   "pygments_lexer": "ipython3",
   "version": "3.10.11"
  },
  "orig_nbformat": 4
 },
 "nbformat": 4,
 "nbformat_minor": 2
}
